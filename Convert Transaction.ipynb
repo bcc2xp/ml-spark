{
 "cells": [
  {
   "cell_type": "code",
   "execution_count": 84,
   "metadata": {
    "collapsed": false,
    "scrolled": true
   },
   "outputs": [],
   "source": [
    "from datetime import datetime\n",
    "import time\n",
    "from sets import Set\n",
    "\n",
    "def dateConvert(dt):\n",
    "    format = '%Y/%m/%d %H:%M:%S %p'\n",
    "    if '\\xa4U\\xa4\\xc8' in dt:\n",
    "        date_string = ' '.join(dt.split(' \\xa4U\\xa4\\xc8 ') + ['PM'])\n",
    "    else:\n",
    "        date_string = ' '.join(dt.split(' \\xa4W\\xa4\\xc8 ') + ['AM'])\n",
    "    my_date = datetime.strptime(date_string, format)    \n",
    "    return my_date\n",
    "\n",
    "def dataFormatting(filename, threshold):\n",
    "    ret = []\n",
    "    ary = Set()\n",
    "    current_time = 0\n",
    "    f = open(filename, 'r')\n",
    "    for id, line in enumerate(f.readlines()[1:]):\n",
    "        ele = line.split(',')\n",
    "        my_date = dateConvert(ele[0])\n",
    "        if id ==0:\n",
    "            current_time = my_date\n",
    "        if (my_date - current_time).seconds < threshold:\n",
    "            ary.add(ele[4])\n",
    "        else:\n",
    "            ret.append(ary)\n",
    "            current_time = my_date\n",
    "            ary = Set([ele[4]])\n",
    "    ret.append(ary)\n",
    "    return ret\n",
    "    f.close()\n",
    "\n",
    "def createTransaction(fname, ret):\n",
    "    f = open(fname.replace('csv', 'trans'), 'w')\n",
    "    for i in ret:\n",
    "        f.write(' '.join(i) + '\\n')     \n",
    "    f.close()\n",
    "    \n",
    "res = dataFormatting('33354321.csv', 6000)\n",
    "createTransaction('33354321.csv', res)\n"
   ]
  }
 ],
 "metadata": {
  "kernelspec": {
   "display_name": "Python 2",
   "language": "python",
   "name": "python2"
  },
  "language_info": {
   "codemirror_mode": {
    "name": "ipython",
    "version": 2
   },
   "file_extension": ".py",
   "mimetype": "text/x-python",
   "name": "python",
   "nbconvert_exporter": "python",
   "pygments_lexer": "ipython2",
   "version": "2.7.10"
  }
 },
 "nbformat": 4,
 "nbformat_minor": 0
}
